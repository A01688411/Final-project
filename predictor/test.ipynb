{
 "cells": [
  {
   "cell_type": "code",
   "execution_count": 1,
   "metadata": {},
   "outputs": [
    {
     "name": "stdout",
     "output_type": "stream",
     "text": [
      "hola mundo\n"
     ]
    }
   ],
   "source": [
    "print(\"hola mundo\")"
   ]
  },
  {
   "cell_type": "code",
   "execution_count": 7,
   "metadata": {},
   "outputs": [
    {
     "name": "stderr",
     "output_type": "stream",
     "text": [
      "usage: ipykernel_launcher.py [-h] model_path new_data\n",
      "ipykernel_launcher.py: error: the following arguments are required: model_path, new_data\n"
     ]
    },
    {
     "ename": "SystemExit",
     "evalue": "2",
     "output_type": "error",
     "traceback": [
      "An exception has occurred, use %tb to see the full traceback.\n",
      "\u001b[1;31mSystemExit\u001b[0m\u001b[1;31m:\u001b[0m 2\n"
     ]
    }
   ],
   "source": [
    "import pandas as pd\n",
    "from predict import ModelPredictor\n",
    "path = r\"C:\\Users\\fzavala\\Documents\\GitHub\\Final-project\\models\\model.h5\"\n",
    "#p = ModelPredictor(path)\n",
    "\n",
    "#model_path = 'ruta/al/modelo.h5'\n",
    "data = {    \n",
    "    \"Cloud3pm\": [1.2],\n",
    "    \"Cloud9am\": [2.0],\n",
    "    \"Evaporation\": [1.6],\n",
    "    \"Humidity3pm\": [1.8],\n",
    "    \"Humidity9am\": [1.2],\n",
    "    \"Location\": [1.6],\n",
    "    \"MaxTemp\": [1.8],\n",
    "    \"MinTemp\": [1.8],\n",
    "    \"Pressure3pm\": [1.6],\n",
    "    \"Pressure9am\": [1.8],\n",
    "    \"Rainfall\": [1.9],\n",
    "    \"Sunshine\": [1.7],\n",
    "    \"Temp3pm\": [2.0],\n",
    "    \"Temp9am\": [1.7],\n",
    "    \"WindGustSpeed\": [1.5],\n",
    "    \"WindSpeed3pm\": [1.7],\n",
    "    \"WindSpeed9am\": [1.3],\n",
    "    \"day_cos\": [1.9],\n",
    "    \"day_sin\": [1.4],\n",
    "    \"month_cos\": [1.5],\n",
    "    \"month_sin\": [1.9],\n",
    "    \"year\": [1.7]}\n",
    "df = pd.DataFrame(data)\n",
    "\n",
    "model_loader = ModelPredictor(path)\n",
    "model_loader.load_model()\n",
    "\n",
    "prediction = model_loader.predict(df)"
   ]
  },
  {
   "cell_type": "code",
   "execution_count": 1,
   "metadata": {},
   "outputs": [
    {
     "name": "stdout",
     "output_type": "stream",
     "text": [
      "c:\\Users\\fzavala\\Documents\\GitHub\\Final-project\\predictor\n"
     ]
    }
   ],
   "source": [
    "!echo %cd%"
   ]
  },
  {
   "cell_type": "code",
   "execution_count": null,
   "metadata": {},
   "outputs": [],
   "source": []
  }
 ],
 "metadata": {
  "kernelspec": {
   "display_name": "venv_project",
   "language": "python",
   "name": "python3"
  },
  "language_info": {
   "codemirror_mode": {
    "name": "ipython",
    "version": 3
   },
   "file_extension": ".py",
   "mimetype": "text/x-python",
   "name": "python",
   "nbconvert_exporter": "python",
   "pygments_lexer": "ipython3",
   "version": "3.10.11"
  },
  "orig_nbformat": 4
 },
 "nbformat": 4,
 "nbformat_minor": 2
}
